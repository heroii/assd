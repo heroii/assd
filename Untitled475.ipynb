{
 "cells": [
  {
   "cell_type": "code",
   "execution_count": 1,
   "id": "5d614ab2-e9fe-4265-acea-0418103bab1f",
   "metadata": {},
   "outputs": [],
   "source": [
    "#\n",
    "#AI is the branch of computer science where we try to add human thinking capability to software\n",
    "#ex-and  self driving car\n",
    "#ml is a subset of ai where it usues the data sufficiently available to to make predictions\n",
    "#ex-prediction of house price in pune using various independent features\n",
    "#dl  is a subset of ml where we use neural networkds to add human thinking capablilty to systems\n",
    "#ex-prediction of the photograph whether it is a dog or not"
   ]
  },
  {
   "cell_type": "code",
   "execution_count": null,
   "id": "6c551876-6709-43dc-bf43-b67a21390855",
   "metadata": {},
   "outputs": [],
   "source": [
    "#in supervised we have independent features using them we have to predict the dependent feature\n",
    "# prediction of price house using two independent  features such as location and square feet area\n"
   ]
  },
  {
   "cell_type": "code",
   "execution_count": null,
   "id": "53eba59a-06b7-41bb-b9c6-a3b4f2d6cb8b",
   "metadata": {},
   "outputs": [],
   "source": [
    "# in unsupervised ml we have independent features using with we perform various things such as clustering,anamoly detection\n",
    "#ex detection of hike in bond prices\n"
   ]
  },
  {
   "cell_type": "code",
   "execution_count": 1,
   "id": "7e3fdb61-104a-4ddb-a57a-208be8e44200",
   "metadata": {},
   "outputs": [],
   "source": [
    "#AI is the branch of computer science where we try to add human thinking capability to software\n",
    "#ex-and  self driving car\n",
    "#ml is a subset of ai where it usues the data sufficiently available to to make predictions\n",
    "#ex-prediction of house price in pune using various independent features\n",
    "#dl  is a subset of ml where we use neural networkds to add human thinking capablilty to systems\n",
    "#ex-prediction of the photograph whether it is a dog or not"
   ]
  },
  {
   "cell_type": "code",
   "execution_count": 2,
   "id": "1072bb6f-3c1d-48ea-b4f5-59df775e93af",
   "metadata": {},
   "outputs": [],
   "source": [
    "#in supervised we have independent features using them we have to predict the dependent feature\n",
    "# prediction of price house using two independent  features such as location and square feet area\n",
    "\n",
    "# in unsupervised ml we have independent features using with we perform various things such as clustering,anamoly detection, here we don not predict\n",
    "#ex detection of hike in bond prices\n",
    "\n",
    "#in semi-supervised  is partially supervised and unsupervised \n",
    "#EX-lavbelling in google photos\n",
    "\n",
    "\n"
   ]
  },
  {
   "cell_type": "code",
   "execution_count": 3,
   "id": "63ec1c1c-9650-4f8a-982f-395c6fa02680",
   "metadata": {},
   "outputs": [],
   "source": [
    "# in train we divide the entire data where mostly data come to train the ml model\n",
    "# the data which comes in test in mostlt less using this we test the performance the ml model,we do not expose the entire datset to the ml model otherwise trhe model will overfit\n",
    "#validation we use various metrics to check the performnace of the ml model \n"
   ]
  },
  {
   "cell_type": "code",
   "execution_count": 4,
   "id": "a0b514a8-703f-4fd9-931b-558c4534cd90",
   "metadata": {},
   "outputs": [],
   "source": [
    "# it is used in dcetection of sudden price hike or low in bond price using time series analysis"
   ]
  },
  {
   "cell_type": "code",
   "execution_count": null,
   "id": "15a0c957-5744-4fef-b9b6-5814b68ac2e2",
   "metadata": {},
   "outputs": [],
   "source": [
    "# supervised.\n",
    "Linaer Regression\n",
    "classification"
   ]
  }
 ],
 "metadata": {
  "kernelspec": {
   "display_name": "Python 3 (ipykernel)",
   "language": "python",
   "name": "python3"
  },
  "language_info": {
   "codemirror_mode": {
    "name": "ipython",
    "version": 3
   },
   "file_extension": ".py",
   "mimetype": "text/x-python",
   "name": "python",
   "nbconvert_exporter": "python",
   "pygments_lexer": "ipython3",
   "version": "3.10.8"
  }
 },
 "nbformat": 4,
 "nbformat_minor": 5
}
